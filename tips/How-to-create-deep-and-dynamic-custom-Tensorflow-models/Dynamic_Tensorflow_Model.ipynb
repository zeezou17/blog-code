{
  "nbformat": 4,
  "nbformat_minor": 0,
  "metadata": {
    "colab": {
      "name": "Dynamic_Tensorflow_Model.ipynb",
      "provenance": [],
      "collapsed_sections": []
    },
    "kernelspec": {
      "name": "python3",
      "display_name": "Python 3"
    },
    "language_info": {
      "name": "python"
    },
    "accelerator": "GPU"
  },
  "cells": [
    {
      "cell_type": "code",
      "metadata": {
        "id": "4eWBmxleQslI"
      },
      "source": [
        "import tensorflow as tf"
      ],
      "execution_count": 1,
      "outputs": []
    },
    {
      "cell_type": "markdown",
      "metadata": {
        "id": "MCbvu2cKRkdY"
      },
      "source": [
        "## Load Dataset"
      ]
    },
    {
      "cell_type": "code",
      "metadata": {
        "colab": {
          "base_uri": "https://localhost:8080/"
        },
        "id": "p4KgiwhjRD1U",
        "outputId": "4280d4e0-d1d9-4955-9037-9167906725cd"
      },
      "source": [
        "mnist = tf.keras.datasets.mnist\n",
        "\n",
        "(x_train, y_train), (x_test, y_test) = mnist.load_data()\n",
        "x_train, x_test = x_train / 255.0, x_test / 255.0"
      ],
      "execution_count": 2,
      "outputs": [
        {
          "output_type": "stream",
          "text": [
            "Downloading data from https://storage.googleapis.com/tensorflow/tf-keras-datasets/mnist.npz\n",
            "11493376/11490434 [==============================] - 0s 0us/step\n"
          ],
          "name": "stdout"
        }
      ]
    },
    {
      "cell_type": "markdown",
      "metadata": {
        "id": "x_HbLhaFRhlg"
      },
      "source": [
        "## Model Architecture"
      ]
    },
    {
      "cell_type": "code",
      "metadata": {
        "id": "HpvK72tGRJv_"
      },
      "source": [
        "# Architecture Parameters\n",
        "arch_parameters = [\n",
        "    {\n",
        "        \"layer_type\" : \"input\",\n",
        "        \"layer_namescope\" : \"model_ip\",\n",
        "        \"input_width\" : 28,\n",
        "        \"input_height\" : 28,\n",
        "        \"input_channels\" : 1\n",
        "    },\n",
        "    {\n",
        "        \"layer_type\" : \"conv\",\n",
        "        \"layer_namescope\" : \"model_block_1_conv3_1\",\n",
        "        \"layer_num_filters\" : 32,\n",
        "        \"layer_kernel_size\" : 3,\n",
        "        \"layer_activation\" : \"relu\",\n",
        "        \"layer_strides\" : 1,\n",
        "        \"layer_padding\" : \"valid\"\n",
        "    },\n",
        "    {\n",
        "        \"layer_type\" : \"conv\",\n",
        "        \"layer_namescope\" : \"model_block_1_conv3_2\",\n",
        "        \"layer_num_filters\" : 64,\n",
        "        \"layer_kernel_size\" : 3,\n",
        "        \"layer_activation\" : \"relu\",\n",
        "        \"layer_strides\" : 1,\n",
        "        \"layer_padding\" : \"same\"\n",
        "    },\n",
        "    {\n",
        "        \"layer_type\" : \"maxpool\",\n",
        "        \"layer_pool_size\" : (2, 2),\n",
        "        \"layer_namescope\" : \"model_block_1_max_pool_1\",\n",
        "        \"layer_padding\" : \"valid\"\n",
        "    },\n",
        "    {\n",
        "        \"layer_type\" : \"BatchNorm\",\n",
        "        \"layer_namescope\" : \"model_block_1_BatchNorm_1\"\n",
        "    },\n",
        "    {\n",
        "        \"layer_type\" : \"conv\",\n",
        "        \"layer_namescope\" : \"model_block_1_conv1_1\",\n",
        "        \"layer_num_filters\" : 128,\n",
        "        \"layer_kernel_size\" : 3,\n",
        "        \"layer_activation\" : None,\n",
        "        \"layer_strides\" : 1,\n",
        "        \"layer_padding\" : \"valid\"     \n",
        "    },\n",
        "    {\n",
        "        \"layer_type\" : \"relu\",\n",
        "        \"layer_namescope\" : \"model_block_1_relu_1\"\n",
        "    },\n",
        "    # End of Block 1 \n",
        "    {\n",
        "        \"layer_type\" : \"dense\",\n",
        "        \"layer_units\" : 10,\n",
        "        \"layer_namescope\" : \"model_dense_final\",\n",
        "        \"layer_activation\" : \"softmax\"\n",
        "    }    \n",
        "]"
      ],
      "execution_count": 3,
      "outputs": []
    },
    {
      "cell_type": "code",
      "metadata": {
        "id": "Sr1rmnD6RKfY"
      },
      "source": [
        "class CustomDynamicModel(tf.keras.Model):\n",
        "    \"\"\"\n",
        "        CustomDynamicModel Architecture\n",
        "    \"\"\"\n",
        "    def __init__(self, arch_parameters):\n",
        "        \"\"\"\n",
        "            Initialize the model and all the necessary variables\n",
        "        \"\"\"\n",
        "        super(CustomDynamicModel, self).__init__()\n",
        "        self.model = None\n",
        "        \n",
        "        # Create Architecture\n",
        "        ip = tf.keras.layers.Input(shape=(arch_parameters[0][\"input_width\"],\n",
        "                                                     arch_parameters[0][\"input_height\"],\n",
        "                                                     arch_parameters[0][\"input_channels\"]),\n",
        "                                        name=arch_parameters[0][\"layer_namescope\"])\n",
        "        \n",
        "        for i, layer in enumerate(arch_parameters[1:-1]):\n",
        "            if layer[\"layer_type\"] == \"conv\":\n",
        "                if i == 0:\n",
        "                    # Just so that we use ip for the first layer instead of x as a calling argument\n",
        "                    x = tf.keras.layers.Conv2D(filters=layer[\"layer_num_filters\"], kernel_size=layer[\"layer_kernel_size\"],\n",
        "                                               activation=layer[\"layer_activation\"], strides=layer[\"layer_strides\"],\n",
        "                                               padding=layer[\"layer_padding\"], name=layer[\"layer_namescope\"])(ip)\n",
        "                else:\n",
        "                    x = tf.keras.layers.Conv2D(filters=layer[\"layer_num_filters\"], kernel_size=layer[\"layer_kernel_size\"],\n",
        "                                               activation=layer[\"layer_activation\"], strides=layer[\"layer_strides\"],\n",
        "                                               padding=layer[\"layer_padding\"], name=layer[\"layer_namescope\"])(x)\n",
        "            elif layer[\"layer_type\"] == \"maxpool\":\n",
        "                x = tf.keras.layers.MaxPool2D(padding=layer[\"layer_padding\"], pool_size=layer[\"layer_pool_size\"],\n",
        "                                              name=layer[\"layer_namescope\"])(x)\n",
        "            elif layer[\"layer_type\"] == \"relu\" :\n",
        "                x = tf.keras.layers.ReLU(name=layer[\"layer_namescope\"])(x)\n",
        "            elif layer[\"layer_type\"] == \"BatchNorm\":\n",
        "                x = tf.keras.layers.BatchNormalization(name=layer[\"layer_namescope\"])(x)\n",
        "                    \n",
        "        if arch_parameters[-1][\"layer_type\"] == \"conv\":\n",
        "            out = tf.keras.layers.Conv2D(filters=arch_parameters[-1][\"layer_num_filters\"],\n",
        "                                         kernel_size=arch_parameters[-1][\"layer_kernel_size\"],\n",
        "                                         activation=arch_parameters[-1][\"layer_activation\"], \n",
        "                                         strides=arch_parameters[-1][\"layer_strides\"],\n",
        "                                         padding=arch_parameters[-1][\"layer_padding\"],\n",
        "                                         name=arch_parameters[-1][\"layer_namescope\"])(x)\n",
        "        elif arch_parameters[-1][\"layer_type\"] == \"dense\":\n",
        "            x = tf.keras.layers.Flatten(name=\"model_flatten\")(x)\n",
        "            out = tf.keras.layers.Dense(units=arch_parameters[-1][\"layer_units\"],\n",
        "                                        activation=arch_parameters[-1][\"layer_activation\"],\n",
        "                                        name=arch_parameters[-1][\"layer_namescope\"])(x)\n",
        "        \n",
        "        \n",
        "        self.model = tf.keras.Model(inputs=ip, outputs=out, name=\"CustomDynamicModel\")\n",
        "        \n",
        "    \n",
        "    def call(self, inputs, training=False):\n",
        "        \"\"\"\n",
        "            Call the model\n",
        "        \"\"\"\n",
        "        return self.model(inputs)\n",
        "\n",
        "    def summary(self):\n",
        "        return self.model.summary()"
      ],
      "execution_count": 4,
      "outputs": []
    },
    {
      "cell_type": "code",
      "metadata": {
        "id": "_RDmXVIqSx-D"
      },
      "source": [
        "model = CustomDynamicModel(arch_parameters)"
      ],
      "execution_count": 5,
      "outputs": []
    },
    {
      "cell_type": "code",
      "metadata": {
        "colab": {
          "base_uri": "https://localhost:8080/"
        },
        "id": "8i0tTwEiS5jT",
        "outputId": "91593298-fa75-4b38-c6fb-e4da767c8369"
      },
      "source": [
        "model.summary()"
      ],
      "execution_count": 6,
      "outputs": [
        {
          "output_type": "stream",
          "text": [
            "Model: \"CustomDynamicModel\"\n",
            "_________________________________________________________________\n",
            "Layer (type)                 Output Shape              Param #   \n",
            "=================================================================\n",
            "model_ip (InputLayer)        [(None, 28, 28, 1)]       0         \n",
            "_________________________________________________________________\n",
            "model_block_1_conv3_1 (Conv2 (None, 26, 26, 32)        320       \n",
            "_________________________________________________________________\n",
            "model_block_1_conv3_2 (Conv2 (None, 26, 26, 64)        18496     \n",
            "_________________________________________________________________\n",
            "model_block_1_max_pool_1 (Ma (None, 13, 13, 64)        0         \n",
            "_________________________________________________________________\n",
            "model_block_1_BatchNorm_1 (B (None, 13, 13, 64)        256       \n",
            "_________________________________________________________________\n",
            "model_block_1_conv1_1 (Conv2 (None, 11, 11, 128)       73856     \n",
            "_________________________________________________________________\n",
            "model_block_1_relu_1 (ReLU)  (None, 11, 11, 128)       0         \n",
            "_________________________________________________________________\n",
            "model_flatten (Flatten)      (None, 15488)             0         \n",
            "_________________________________________________________________\n",
            "model_dense_final (Dense)    (None, 10)                154890    \n",
            "=================================================================\n",
            "Total params: 247,818\n",
            "Trainable params: 247,690\n",
            "Non-trainable params: 128\n",
            "_________________________________________________________________\n"
          ],
          "name": "stdout"
        }
      ]
    },
    {
      "cell_type": "markdown",
      "metadata": {
        "id": "ooHdyLYmnNKh"
      },
      "source": [
        "## Training"
      ]
    },
    {
      "cell_type": "code",
      "metadata": {
        "id": "Lo7U1PVbnLuz"
      },
      "source": [
        "model.compile(\n",
        "    optimizer=tf.keras.optimizers.Adam(0.001),\n",
        "    loss=tf.keras.losses.SparseCategoricalCrossentropy(from_logits=False),\n",
        "    metrics=[tf.keras.metrics.SparseCategoricalAccuracy()],\n",
        ")"
      ],
      "execution_count": 7,
      "outputs": []
    },
    {
      "cell_type": "code",
      "metadata": {
        "colab": {
          "base_uri": "https://localhost:8080/"
        },
        "id": "lLCs1uVEnuji",
        "outputId": "61fdb5ab-e717-4746-ff91-6cf0289ea8b2"
      },
      "source": [
        "model.fit(\n",
        "    x=x_train, y=y_train,\n",
        "    batch_size=32,\n",
        "    epochs=10, validation_data=(x_test,y_test)\n",
        ")"
      ],
      "execution_count": 8,
      "outputs": [
        {
          "output_type": "stream",
          "text": [
            "Epoch 1/10\n",
            "1875/1875 [==============================] - 40s 4ms/step - loss: 0.1800 - sparse_categorical_accuracy: 0.9443 - val_loss: 0.0364 - val_sparse_categorical_accuracy: 0.9884\n",
            "Epoch 2/10\n",
            "1875/1875 [==============================] - 7s 4ms/step - loss: 0.0357 - sparse_categorical_accuracy: 0.9895 - val_loss: 0.0451 - val_sparse_categorical_accuracy: 0.9871\n",
            "Epoch 3/10\n",
            "1875/1875 [==============================] - 7s 4ms/step - loss: 0.0244 - sparse_categorical_accuracy: 0.9924 - val_loss: 0.0430 - val_sparse_categorical_accuracy: 0.9883\n",
            "Epoch 4/10\n",
            "1875/1875 [==============================] - 7s 4ms/step - loss: 0.0157 - sparse_categorical_accuracy: 0.9949 - val_loss: 0.0442 - val_sparse_categorical_accuracy: 0.9882\n",
            "Epoch 5/10\n",
            "1875/1875 [==============================] - 7s 4ms/step - loss: 0.0144 - sparse_categorical_accuracy: 0.9955 - val_loss: 0.0372 - val_sparse_categorical_accuracy: 0.9903\n",
            "Epoch 6/10\n",
            "1875/1875 [==============================] - 7s 4ms/step - loss: 0.0126 - sparse_categorical_accuracy: 0.9963 - val_loss: 0.0454 - val_sparse_categorical_accuracy: 0.9890\n",
            "Epoch 7/10\n",
            "1875/1875 [==============================] - 7s 4ms/step - loss: 0.0090 - sparse_categorical_accuracy: 0.9974 - val_loss: 0.0670 - val_sparse_categorical_accuracy: 0.9878\n",
            "Epoch 8/10\n",
            "1875/1875 [==============================] - 7s 4ms/step - loss: 0.0077 - sparse_categorical_accuracy: 0.9976 - val_loss: 0.0898 - val_sparse_categorical_accuracy: 0.9845\n",
            "Epoch 9/10\n",
            "1875/1875 [==============================] - 7s 4ms/step - loss: 0.0114 - sparse_categorical_accuracy: 0.9967 - val_loss: 0.0736 - val_sparse_categorical_accuracy: 0.9888\n",
            "Epoch 10/10\n",
            "1875/1875 [==============================] - 7s 4ms/step - loss: 0.0078 - sparse_categorical_accuracy: 0.9979 - val_loss: 0.0733 - val_sparse_categorical_accuracy: 0.9883\n"
          ],
          "name": "stdout"
        },
        {
          "output_type": "execute_result",
          "data": {
            "text/plain": [
              "<tensorflow.python.keras.callbacks.History at 0x7f17564d5f10>"
            ]
          },
          "metadata": {
            "tags": []
          },
          "execution_count": 8
        }
      ]
    }
  ]
}